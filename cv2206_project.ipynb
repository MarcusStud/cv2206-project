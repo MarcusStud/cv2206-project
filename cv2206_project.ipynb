{
  "nbformat": 4,
  "nbformat_minor": 0,
  "metadata": {
    "colab": {
      "name": "cv2206-project.ipynb",
      "provenance": [],
      "authorship_tag": "ABX9TyMIe8QK/ul+KtrTSBguKPw8",
      "include_colab_link": true
    },
    "kernelspec": {
      "name": "python3",
      "display_name": "Python 3"
    },
    "language_info": {
      "name": "python"
    }
  },
  "cells": [
    {
      "cell_type": "markdown",
      "metadata": {
        "id": "view-in-github",
        "colab_type": "text"
      },
      "source": [
        "<a href=\"https://colab.research.google.com/github/MarcusStud/cv2206-project/blob/main/cv2206_project.ipynb\" target=\"_parent\"><img src=\"https://colab.research.google.com/assets/colab-badge.svg\" alt=\"Open In Colab\"/></a>"
      ]
    },
    {
      "cell_type": "code",
      "execution_count": 4,
      "metadata": {
        "colab": {
          "base_uri": "https://localhost:8080/"
        },
        "id": "rOdO259yn_SB",
        "outputId": "bf38e97a-3951-4c37-f184-e7a000627648"
      },
      "outputs": [
        {
          "output_type": "stream",
          "name": "stdout",
          "text": [
            "hello world\n",
            "13\n"
          ]
        }
      ],
      "source": [
        "print('hello world')\n",
        "i = 6\n",
        "n = 7\n",
        "print(i+n)"
      ]
    },
    {
      "cell_type": "markdown",
      "source": [
        "# New section"
      ],
      "metadata": {
        "id": "dOyHQZt0oFlz"
      }
    }
  ]
}